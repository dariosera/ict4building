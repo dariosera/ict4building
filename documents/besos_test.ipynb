{
 "cells": [
  {
   "cell_type": "code",
   "execution_count": 1,
   "metadata": {},
   "outputs": [],
   "source": [
    "import matplotlib.pyplot as plt\n",
    "from seaborn import heatmap\n",
    "from seaborn import pairplot\n",
    "from besos import eppy_funcs as ef\n",
    "from besos import sampling\n",
    "from besos.evaluator import EvaluatorEP\n",
    "from besos.parameters import RangeParameter, FieldSelector, FilterSelector, Parameter, expand_plist, wwr, CategoryParameter, GenericSelector\n",
    "from besos.problem import EPProblem\n",
    "import pandas as pd"
   ]
  },
  {
   "cell_type": "markdown",
   "metadata": {},
   "source": [
    "# Parametric Analysis\n",
    "This notebook performs a parametric analysis of a building design using EnergyPlus and BESOS helper functions.  \n",
    "We load a model from **test.idf**, define parameters to vary, set objectives,then run the model for a signle parameter and finaly all parameter combinations and plot the results.\n",
    "\n",
    "### Various Imports\n",
    "`EvaluatorEP` manages energy-plus simulations for a single problem.  \n",
    "Problems, like `EPProblem` organise several parameters together.  \n",
    "Parameters, like `Parameter` describe a single variable for the building.\n",
    "They are composed of a `Descriptor` and a `Selector`.\n"
   ]
  },
  {
   "cell_type": "code",
   "execution_count": 30,
   "metadata": {},
   "outputs": [],
   "source": [
    "building = ef.get_building('/home/ict4bd/prova_8.idf')"
   ]
  },
  {
   "cell_type": "markdown",
   "metadata": {},
   "source": [
    "Let's check what materials are in the model.  \n"
   ]
  },
  {
   "cell_type": "code",
   "execution_count": 31,
   "metadata": {},
   "outputs": [
    {
     "data": {
      "text/plain": [
       "['Urea Formaldehyde Foam_00171',\n",
       " 'Cast Concrete_01',\n",
       " 'Floor/Roof Screed_007',\n",
       " 'Timber Flooring_003',\n",
       " 'Asphalt 1_001',\n",
       " 'MW Glass Wool (rolls)_00245',\n",
       " 'Plasterboard_0013',\n",
       " 'Gypsum Plasterboard_0025',\n",
       " 'Brickwork Outer_01',\n",
       " 'XPS Extruded Polystyrene  - CO2 Blowing_0041',\n",
       " 'Concrete Block (Medium)_01',\n",
       " 'Gypsum Plastering_0013']"
      ]
     },
     "execution_count": 31,
     "metadata": {},
     "output_type": "execute_result"
    }
   ],
   "source": [
    "[materials.Name for materials in building.idfobjects[\"MATERIAL\"]]# get a list of the Name property of all IDF objects of class MATERIAL\n"
   ]
  },
  {
   "cell_type": "markdown",
   "metadata": {},
   "source": [
    "# Building Parameters with Selectors\n",
    "\n",
    "`Selectors` identify which part of the building model to modify, and how to modify it.  "
   ]
  },
  {
   "cell_type": "markdown",
   "metadata": {},
   "source": [
    "## Field Selectors\n",
    "`FieldSelector`s modify individual fields in a building model.  \n"
   ]
  },
  {
   "cell_type": "markdown",
   "metadata": {},
   "source": [
    "The example building loaded here contains a `Material` class object named `XPS Extruded Polystyrene  - CO2 Blowing_0041` which has a `Thickness` field.  \n",
    "We make a selector that modifies this insulation thickness."
   ]
  },
  {
   "cell_type": "code",
   "execution_count": 32,
   "metadata": {},
   "outputs": [],
   "source": [
    "insulation = FieldSelector(class_name='Material', object_name='XPS Extruded Polystyrene  - CO2 Blowing_0041', field_name='Thickness')"
   ]
  },
  {
   "cell_type": "markdown",
   "metadata": {},
   "source": [
    "There is only one object in the example building with the name `XPS Extruded Polystyrene  - CO2 Blowing_0041`, so we can ommit the `class_name`.  \n",
    "The building will be searched for any object with the correct `object_name`. However `flied_name` is mandatory."
   ]
  },
  {
   "cell_type": "markdown",
   "metadata": {},
   "source": [
    "If you have multiple objects of the same type that all share the same field to modify, set `object_name` to `'*'`."
   ]
  },
  {
   "cell_type": "code",
   "execution_count": 33,
   "metadata": {},
   "outputs": [
    {
     "data": {
      "text/plain": [
       "[\n",
       " Lights,\n",
       "     Block1:ZoneWest,          !- Name\n",
       "     Block1:ZoneWest,          !- Zone or ZoneList Name\n",
       "     Office_OpenOff_Light,     !- Schedule Name\n",
       "     Watts/Area,               !- Design Level Calculation Method\n",
       "     ,                         !- Lighting Level\n",
       "     20,                       !- Watts per Zone Floor Area\n",
       "     ,                         !- Watts per Person\n",
       "     0,                        !- Return Air Fraction\n",
       "     0.42,                     !- Fraction Radiant\n",
       "     0.18,                     !- Fraction Visible\n",
       "     1,                        !- Fraction Replaceable\n",
       "     ;                         !- EndUse Subcategory, \n",
       " Lights,\n",
       "     Block1:ZoneSouth,         !- Name\n",
       "     Block1:ZoneSouth,         !- Zone or ZoneList Name\n",
       "     Office_OpenOff_Light,     !- Schedule Name\n",
       "     Watts/Area,               !- Design Level Calculation Method\n",
       "     ,                         !- Lighting Level\n",
       "     20,                       !- Watts per Zone Floor Area\n",
       "     ,                         !- Watts per Person\n",
       "     0,                        !- Return Air Fraction\n",
       "     0.42,                     !- Fraction Radiant\n",
       "     0.18,                     !- Fraction Visible\n",
       "     1,                        !- Fraction Replaceable\n",
       "     ;                         !- EndUse Subcategory, \n",
       " Lights,\n",
       "     Block1:ZoneEast,          !- Name\n",
       "     Block1:ZoneEast,          !- Zone or ZoneList Name\n",
       "     Office_OpenOff_Light,     !- Schedule Name\n",
       "     Watts/Area,               !- Design Level Calculation Method\n",
       "     ,                         !- Lighting Level\n",
       "     20,                       !- Watts per Zone Floor Area\n",
       "     ,                         !- Watts per Person\n",
       "     0,                        !- Return Air Fraction\n",
       "     0.42,                     !- Fraction Radiant\n",
       "     0.18,                     !- Fraction Visible\n",
       "     1,                        !- Fraction Replaceable\n",
       "     ;                         !- EndUse Subcategory, \n",
       " Lights,\n",
       "     Block1:ZoneNorth,         !- Name\n",
       "     Block1:ZoneNorth,         !- Zone or ZoneList Name\n",
       "     Office_OpenOff_Light,     !- Schedule Name\n",
       "     Watts/Area,               !- Design Level Calculation Method\n",
       "     ,                         !- Lighting Level\n",
       "     20,                       !- Watts per Zone Floor Area\n",
       "     ,                         !- Watts per Person\n",
       "     0,                        !- Return Air Fraction\n",
       "     0.42,                     !- Fraction Radiant\n",
       "     0.18,                     !- Fraction Visible\n",
       "     1,                        !- Fraction Replaceable\n",
       "     ;                         !- EndUse Subcategory]"
      ]
     },
     "execution_count": 33,
     "metadata": {},
     "output_type": "execute_result"
    }
   ],
   "source": [
    "[materials for materials in building.idfobjects[\"LIGHTS\"]]# get a list of the Name property of all IDF objects of class MATERIAL\n"
   ]
  },
  {
   "cell_type": "code",
   "execution_count": 34,
   "metadata": {},
   "outputs": [],
   "source": [
    "lights = FieldSelector(class_name='Lights', object_name='*', field_name='Watts per Zone Floor Area')"
   ]
  },
  {
   "cell_type": "markdown",
   "metadata": {},
   "source": [
    "## Parameter scripts using a Generic Selector\n",
    "\n",
    "Parameters can also be created by defining a function that takes an idf and a value and mutates the idf. These functions can be specific to a certain idf's format, and can perform any arbitrary transformation. Creating these can be more involved.  \n",
    "`eppy_funcs` contains the functions `one_window` and `wwr_all`. `one_window` removes windows from a building untill it has only one per wall. `wwr_all` takes a building with one window per wall and adjusts it to have a specific window to wall ratio.\n",
    "\n",
    "BESOS also includes some pre-defined parameter scripts:\n",
    "+ `wwr(Range)` for window to wall ratio  \n",
    "\n",
    "Here we define the WWR of all walls in the model to be between 10% and 90%.\n"
   ]
  },
  {
   "cell_type": "code",
   "execution_count": 35,
   "metadata": {},
   "outputs": [],
   "source": [
    "window_to_wall = wwr(RangeParameter(0.1,0.9)) # use a special shortcut to get the window-to-wall parameter"
   ]
  },
  {
   "cell_type": "markdown",
   "metadata": {
    "papermill": {
     "duration": 0.006035,
     "end_time": "2019-10-28T22:48:55.122661",
     "exception": false,
     "start_time": "2019-10-28T22:48:55.116626",
     "status": "completed"
    },
    "tags": []
   },
   "source": [
    "## EvaluatorEP\n",
    "The EnergyPlus evaluator needs a problem with parameters that can modify it, objectives to report, and a building model.  \n",
    "A problem (`problem = parameters + objectives`) can be easily applied to any building model (`evaluator = problem + building`)."
   ]
  },
  {
   "cell_type": "markdown",
   "metadata": {},
   "source": [
    "### Problems\n",
    "`Problem` objects represent inputs and outputs.  \n",
    "We have defined various inputs using `parameters` above, and we define objectives of heating and cooling use."
   ]
  },
  {
   "cell_type": "code",
   "execution_count": 36,
   "metadata": {
    "papermill": {
     "duration": 0.017667,
     "end_time": "2019-10-28T22:48:55.146991",
     "exception": false,
     "start_time": "2019-10-28T22:48:55.129324",
     "status": "completed"
    },
    "scrolled": true,
    "tags": []
   },
   "outputs": [
    {
     "data": {
      "text/plain": [
       "[Parameter(name='Insulation Thickness', selector=FieldSelector(field_name='Thickness', class_name='Material', object_name='XPS Extruded Polystyrene  - CO2 Blowing_0041'))]"
      ]
     },
     "execution_count": 36,
     "metadata": {},
     "output_type": "execute_result"
    }
   ],
   "source": [
    "insulation = FieldSelector(class_name='Material', object_name='XPS Extruded Polystyrene  - CO2 Blowing_0041', field_name='Thickness')\n",
    "parameters = [Parameter(selector=insulation,name='Insulation Thickness')] \n",
    "parameters"
   ]
  },
  {
   "cell_type": "markdown",
   "metadata": {},
   "source": [
    "Now we have to define the `objectives` and problem"
   ]
  },
  {
   "cell_type": "code",
   "execution_count": 37,
   "metadata": {
    "scrolled": true
   },
   "outputs": [
    {
     "data": {
      "text/plain": [
       "EPProblem(inputs=[Parameter(name='Insulation Thickness', selector=FieldSelector(field_name='Thickness', class_name='Material', object_name='XPS Extruded Polystyrene  - CO2 Blowing_0041'))], outputs=[MeterReader(class_name='Output:Meter', func=<function sum_values at 0x7f2523583a60>, key_name='Electricity:Facility'), MeterReader(class_name='Output:Meter', func=<function sum_values at 0x7f2523583a60>, key_name='DistrictHeating:Facility'), MeterReader(class_name='Output:Meter', func=<function sum_values at 0x7f2523583a60>, key_name='DistrictCooling:Facility')], minimize_outputs=[True, True, True], converters={'outputs': <class 'objectives.MeterReader'>, 'constraints': <class 'objectives.MeterReader'>})"
      ]
     },
     "execution_count": 37,
     "metadata": {},
     "output_type": "execute_result"
    }
   ],
   "source": [
    "objectives = ['Electricity:Facility','DistrictHeating:Facility','DistrictCooling:Facility'] # these get made into `MeterReader` or `VariableReader`\n",
    "problem=EPProblem(parameters, objectives) # problem = parameters + objectives\n",
    "problem"
   ]
  },
  {
   "cell_type": "code",
   "execution_count": 38,
   "metadata": {},
   "outputs": [],
   "source": [
    "evaluator = EvaluatorEP(problem, building, out_dir='outputdir', err_dir='outputdir' ,epw_file='/home/ict4bd/ipython/weather/my_epw_file.epw') # evaluator = problem + building"
   ]
  },
  {
   "cell_type": "markdown",
   "metadata": {},
   "source": [
    "Now we run the evaluator with wall insulation thickness set to 0.5m "
   ]
  },
  {
   "cell_type": "code",
   "execution_count": 39,
   "metadata": {
    "papermill": {
     "duration": 1.258319,
     "end_time": "2019-10-28T22:48:56.411178",
     "exception": false,
     "start_time": "2019-10-28T22:48:55.152859",
     "status": "completed"
    },
    "scrolled": false,
    "tags": []
   },
   "outputs": [
    {
     "name": "stdout",
     "output_type": "stream",
     "text": [
      "Electricity:Facility  ::  21320.28 kWh\n",
      "DistrictHeating:Facility  ::  7186.75 kWh\n",
      "DistrictCooling:Facility  ::  19368.31 kWh\n"
     ]
    }
   ],
   "source": [
    "result = evaluator([0.5]) \n",
    "values = dict(zip(objectives, result))\n",
    "for key, value in values.items():\n",
    "    print(key, \" :: \", \"{0:.2f}\".format(value/3.6e6), \"kWh\")"
   ]
  },
  {
   "cell_type": "code",
   "execution_count": 12,
   "metadata": {
    "papermill": {
     "duration": 1.258319,
     "end_time": "2019-10-28T22:48:56.411178",
     "exception": false,
     "start_time": "2019-10-28T22:48:55.152859",
     "status": "completed"
    },
    "scrolled": false,
    "tags": []
   },
   "outputs": [
    {
     "name": "stdout",
     "output_type": "stream",
     "text": [
      "Electricity:Facility  ::  21320.28 kWh\n",
      "DistrictHeating:Facility  ::  7172.79 kWh\n",
      "DistrictCooling:Facility  ::  10510.66 kWh\n"
     ]
    }
   ],
   "source": [
    "result = evaluator([1]) \n",
    "values = dict(zip(objectives, result))\n",
    "for key, value in values.items():\n",
    "    print(key, \" :: \", \"{0:.2f}\".format(value/3.6e6), \"kWh\")"
   ]
  },
  {
   "cell_type": "markdown",
   "metadata": {
    "papermill": {
     "duration": 0.007177,
     "end_time": "2019-10-28T22:50:11.211540",
     "exception": false,
     "start_time": "2019-10-28T22:50:11.204363",
     "status": "completed"
    },
    "tags": []
   },
   "source": [
    "# Descriptors\n",
    "\n",
    "Descriptors specify what kinds of values are valid for a parameter.  \n",
    "There are currently, two variants: `RangeParameter` and `CategoryParameter`.  \n",
    "\n",
    "\n",
    "`RangeParameter` is a descriptor that indicates a parameter that can take on values from an interval.  \n",
    "`CategoryParameter` is a descriptor that indicates a paramter that can take on values from a list."
   ]
  },
  {
   "cell_type": "markdown",
   "metadata": {
    "papermill": {
     "duration": 0.004912,
     "end_time": "2019-10-28T22:50:12.283603",
     "exception": false,
     "start_time": "2019-10-28T22:50:12.278691",
     "status": "completed"
    },
    "tags": []
   },
   "source": [
    "### RangeParameters \n",
    "$min \\leq x \\leq max$"
   ]
  },
  {
   "cell_type": "code",
   "execution_count": 13,
   "metadata": {
    "papermill": {
     "duration": 0.01397,
     "end_time": "2019-10-28T22:50:12.304946",
     "exception": false,
     "start_time": "2019-10-28T22:50:12.290976",
     "status": "completed"
    },
    "tags": []
   },
   "outputs": [],
   "source": [
    "zero_to_one_exclusive = RangeParameter(min_val = 0.01, max_val=0.99)"
   ]
  },
  {
   "cell_type": "markdown",
   "metadata": {
    "papermill": {
     "duration": 0.004436,
     "end_time": "2019-10-28T22:50:12.314291",
     "exception": false,
     "start_time": "2019-10-28T22:50:12.309855",
     "status": "completed"
    },
    "tags": []
   },
   "source": [
    "### CategoryParameters \n",
    "A list of options."
   ]
  },
  {
   "cell_type": "code",
   "execution_count": 14,
   "metadata": {
    "papermill": {
     "duration": 0.009385,
     "end_time": "2019-10-28T22:50:12.328129",
     "exception": false,
     "start_time": "2019-10-28T22:50:12.318744",
     "status": "completed"
    },
    "tags": []
   },
   "outputs": [],
   "source": [
    "text_example = CategoryParameter(options=['a', 'b', 'c', 'other'])\n",
    "single_digit_integers = CategoryParameter(options=range(10))"
   ]
  },
  {
   "cell_type": "markdown",
   "metadata": {},
   "source": [
    "We can combine this with the `Selector` above to get a `Parameter`:"
   ]
  },
  {
   "cell_type": "code",
   "execution_count": 15,
   "metadata": {},
   "outputs": [
    {
     "name": "stdout",
     "output_type": "stream",
     "text": [
      "Parameter(name='Insulation Thickness', selector=FieldSelector(field_name='Thickness', class_name='Material', object_name='XPS Extruded Polystyrene  - CO2 Blowing_0041'), value_descriptor=RangeParameter(min=0.01, max=0.99))\n"
     ]
    }
   ],
   "source": [
    "insulation = FieldSelector(class_name='Material', object_name='XPS Extruded Polystyrene  - CO2 Blowing_0041', field_name='Thickness')\n",
    "\n",
    "insulation_param = Parameter(selector=insulation,\n",
    "                                 value_descriptor=zero_to_one_exclusive,\n",
    "                                 name='Insulation Thickness')\n",
    "print(insulation_param)\n",
    "parameters = [insulation_param] \n"
   ]
  },
  {
   "cell_type": "markdown",
   "metadata": {
    "papermill": {
     "duration": 0.004336,
     "end_time": "2019-10-28T22:50:12.337015",
     "exception": false,
     "start_time": "2019-10-28T22:50:12.332679",
     "status": "completed"
    },
    "tags": []
   },
   "source": [
    "### Sampling\n",
    "These descriptors can be used to make `Parameters`.  \n",
    "Then we can generate samples."
   ]
  },
  {
   "cell_type": "code",
   "execution_count": 16,
   "metadata": {
    "papermill": {
     "duration": 0.021458,
     "end_time": "2019-10-28T22:50:12.362905",
     "exception": false,
     "start_time": "2019-10-28T22:50:12.341447",
     "status": "completed"
    },
    "scrolled": true,
    "tags": []
   },
   "outputs": [
    {
     "data": {
      "text/html": [
       "<div>\n",
       "<style scoped>\n",
       "    .dataframe tbody tr th:only-of-type {\n",
       "        vertical-align: middle;\n",
       "    }\n",
       "\n",
       "    .dataframe tbody tr th {\n",
       "        vertical-align: top;\n",
       "    }\n",
       "\n",
       "    .dataframe thead th {\n",
       "        text-align: right;\n",
       "    }\n",
       "</style>\n",
       "<table border=\"1\" class=\"dataframe\">\n",
       "  <thead>\n",
       "    <tr style=\"text-align: right;\">\n",
       "      <th></th>\n",
       "      <th>Insulation Thickness</th>\n",
       "    </tr>\n",
       "  </thead>\n",
       "  <tbody>\n",
       "    <tr>\n",
       "      <th>0</th>\n",
       "      <td>0.918232</td>\n",
       "    </tr>\n",
       "    <tr>\n",
       "      <th>1</th>\n",
       "      <td>0.356506</td>\n",
       "    </tr>\n",
       "  </tbody>\n",
       "</table>\n",
       "</div>"
      ],
      "text/plain": [
       "   Insulation Thickness\n",
       "0              0.918232\n",
       "1              0.356506"
      ]
     },
     "execution_count": 16,
     "metadata": {},
     "output_type": "execute_result"
    }
   ],
   "source": [
    "objectives = ['Electricity:Facility','DistrictHeating:Facility','DistrictCooling:Facility'] # these get made into `MeterReader` or `VariableReader`\n",
    "\n",
    "problem=EPProblem(parameters, objectives) # problem = parameters + objectives\n",
    "\n",
    "samples = sampling.dist_sampler(sampling.lhs, problem, num_samples=2)\n",
    "samples"
   ]
  },
  {
   "cell_type": "code",
   "execution_count": 17,
   "metadata": {},
   "outputs": [
    {
     "data": {
      "application/vnd.jupyter.widget-view+json": {
       "model_id": "54f537fde9314bcb95c1689dc1518928",
       "version_major": 2,
       "version_minor": 0
      },
      "text/plain": [
       "HBox(children=(IntProgress(value=0, description='Executing', max=2, style=ProgressStyle(description_width='ini…"
      ]
     },
     "metadata": {},
     "output_type": "display_data"
    },
    {
     "name": "stdout",
     "output_type": "stream",
     "text": [
      "\n"
     ]
    },
    {
     "data": {
      "text/html": [
       "<div>\n",
       "<style scoped>\n",
       "    .dataframe tbody tr th:only-of-type {\n",
       "        vertical-align: middle;\n",
       "    }\n",
       "\n",
       "    .dataframe tbody tr th {\n",
       "        vertical-align: top;\n",
       "    }\n",
       "\n",
       "    .dataframe thead th {\n",
       "        text-align: right;\n",
       "    }\n",
       "</style>\n",
       "<table border=\"1\" class=\"dataframe\">\n",
       "  <thead>\n",
       "    <tr style=\"text-align: right;\">\n",
       "      <th></th>\n",
       "      <th>Insulation Thickness</th>\n",
       "      <th>Electricity:Facility</th>\n",
       "      <th>DistrictHeating:Facility</th>\n",
       "      <th>DistrictCooling:Facility</th>\n",
       "    </tr>\n",
       "  </thead>\n",
       "  <tbody>\n",
       "    <tr>\n",
       "      <th>0</th>\n",
       "      <td>0.918232</td>\n",
       "      <td>7.675301e+10</td>\n",
       "      <td>2.589071e+10</td>\n",
       "      <td>3.795298e+10</td>\n",
       "    </tr>\n",
       "    <tr>\n",
       "      <th>1</th>\n",
       "      <td>0.356506</td>\n",
       "      <td>7.675301e+10</td>\n",
       "      <td>2.668202e+10</td>\n",
       "      <td>3.819941e+10</td>\n",
       "    </tr>\n",
       "  </tbody>\n",
       "</table>\n",
       "</div>"
      ],
      "text/plain": [
       "   Insulation Thickness  Electricity:Facility  DistrictHeating:Facility  \\\n",
       "0              0.918232          7.675301e+10              2.589071e+10   \n",
       "1              0.356506          7.675301e+10              2.668202e+10   \n",
       "\n",
       "   DistrictCooling:Facility  \n",
       "0              3.795298e+10  \n",
       "1              3.819941e+10  "
      ]
     },
     "execution_count": 17,
     "metadata": {},
     "output_type": "execute_result"
    }
   ],
   "source": [
    "evaluator = EvaluatorEP(problem, building, out_dir='outputdir', err_dir='outputdir',epw_file='/home/ict4bd/ipython/weather/my_epw_file.epw')\n",
    "outputs = evaluator.df_apply(samples, keep_input=True)\n",
    "\n",
    "outputs"
   ]
  },
  {
   "cell_type": "code",
   "execution_count": 18,
   "metadata": {},
   "outputs": [
    {
     "data": {
      "text/plain": [
       "[\n",
       " WindowMaterial:Glazing,\n",
       "     3,                        !- Name\n",
       "     SpectralAverage,          !- Optical Data Type\n",
       "     ,                         !- Window Glass Spectral Data Set Name\n",
       "     0.006,                    !- Thickness\n",
       "     0.775,                    !- Solar Transmittance at Normal Incidence\n",
       "     0.071,                    !- Front Side Solar Reflectance at Normal Incidence\n",
       "     0.071,                    !- Back Side Solar Reflectance at Normal Incidence\n",
       "     0.881,                    !- Visible Transmittance at Normal Incidence\n",
       "     0.08,                     !- Front Side Visible Reflectance at Normal Incidence\n",
       "     0.08,                     !- Back Side Visible Reflectance at Normal Incidence\n",
       "     0,                        !- Infrared Transmittance at Normal Incidence\n",
       "     0.84,                     !- Front Side Infrared Hemispherical Emissivity\n",
       "     0.84,                     !- Back Side Infrared Hemispherical Emissivity\n",
       "     0.9,                      !- Conductivity\n",
       "     1;                        !- Dirt Correction Factor for Solar and Visible Transmittance]"
      ]
     },
     "execution_count": 18,
     "metadata": {},
     "output_type": "execute_result"
    }
   ],
   "source": [
    "[materials for materials in building.idfobjects[\"WINDOWMATERIAL:GLAZING\"]]"
   ]
  },
  {
   "cell_type": "code",
   "execution_count": 19,
   "metadata": {},
   "outputs": [],
   "source": [
    "more_parameters = expand_plist(\n",
    "    # class_name is NOT provided\n",
    "    #{'object_name':\n",
    "    # {'field_name':(min, max)}}\n",
    "    {'3':\n",
    "     {'Conductivity':(0.1,1),\n",
    "      'Solar Transmittance at Normal Incidence':(0.01,0.8)\n",
    "     }\n",
    "    })"
   ]
  },
  {
   "cell_type": "code",
   "execution_count": 20,
   "metadata": {},
   "outputs": [],
   "source": [
    "parameters = [insulation_param] + more_parameters +[window_to_wall]"
   ]
  },
  {
   "cell_type": "code",
   "execution_count": 21,
   "metadata": {},
   "outputs": [
    {
     "data": {
      "text/html": [
       "<div>\n",
       "<style scoped>\n",
       "    .dataframe tbody tr th:only-of-type {\n",
       "        vertical-align: middle;\n",
       "    }\n",
       "\n",
       "    .dataframe tbody tr th {\n",
       "        vertical-align: top;\n",
       "    }\n",
       "\n",
       "    .dataframe thead th {\n",
       "        text-align: right;\n",
       "    }\n",
       "</style>\n",
       "<table border=\"1\" class=\"dataframe\">\n",
       "  <thead>\n",
       "    <tr style=\"text-align: right;\">\n",
       "      <th></th>\n",
       "      <th>Insulation Thickness</th>\n",
       "      <th>Conductivity</th>\n",
       "      <th>Solar Transmittance at Normal Incidence</th>\n",
       "      <th>Window to Wall Ratio</th>\n",
       "    </tr>\n",
       "  </thead>\n",
       "  <tbody>\n",
       "    <tr>\n",
       "      <th>0</th>\n",
       "      <td>0.974546</td>\n",
       "      <td>0.760073</td>\n",
       "      <td>0.439303</td>\n",
       "      <td>0.779813</td>\n",
       "    </tr>\n",
       "    <tr>\n",
       "      <th>1</th>\n",
       "      <td>0.215824</td>\n",
       "      <td>0.185259</td>\n",
       "      <td>0.099899</td>\n",
       "      <td>0.114760</td>\n",
       "    </tr>\n",
       "    <tr>\n",
       "      <th>2</th>\n",
       "      <td>0.530790</td>\n",
       "      <td>0.458303</td>\n",
       "      <td>0.664158</td>\n",
       "      <td>0.657197</td>\n",
       "    </tr>\n",
       "    <tr>\n",
       "      <th>3</th>\n",
       "      <td>0.743445</td>\n",
       "      <td>0.898498</td>\n",
       "      <td>0.741451</td>\n",
       "      <td>0.340232</td>\n",
       "    </tr>\n",
       "    <tr>\n",
       "      <th>4</th>\n",
       "      <td>0.284121</td>\n",
       "      <td>0.628219</td>\n",
       "      <td>0.366024</td>\n",
       "      <td>0.292785</td>\n",
       "    </tr>\n",
       "    <tr>\n",
       "      <th>5</th>\n",
       "      <td>0.040528</td>\n",
       "      <td>0.422681</td>\n",
       "      <td>0.187577</td>\n",
       "      <td>0.507774</td>\n",
       "    </tr>\n",
       "    <tr>\n",
       "      <th>6</th>\n",
       "      <td>0.412781</td>\n",
       "      <td>0.885487</td>\n",
       "      <td>0.591679</td>\n",
       "      <td>0.831645</td>\n",
       "    </tr>\n",
       "    <tr>\n",
       "      <th>7</th>\n",
       "      <td>0.793565</td>\n",
       "      <td>0.311538</td>\n",
       "      <td>0.273386</td>\n",
       "      <td>0.471187</td>\n",
       "    </tr>\n",
       "  </tbody>\n",
       "</table>\n",
       "</div>"
      ],
      "text/plain": [
       "   Insulation Thickness  Conductivity  \\\n",
       "0              0.974546      0.760073   \n",
       "1              0.215824      0.185259   \n",
       "2              0.530790      0.458303   \n",
       "3              0.743445      0.898498   \n",
       "4              0.284121      0.628219   \n",
       "5              0.040528      0.422681   \n",
       "6              0.412781      0.885487   \n",
       "7              0.793565      0.311538   \n",
       "\n",
       "   Solar Transmittance at Normal Incidence  Window to Wall Ratio  \n",
       "0                                 0.439303              0.779813  \n",
       "1                                 0.099899              0.114760  \n",
       "2                                 0.664158              0.657197  \n",
       "3                                 0.741451              0.340232  \n",
       "4                                 0.366024              0.292785  \n",
       "5                                 0.187577              0.507774  \n",
       "6                                 0.591679              0.831645  \n",
       "7                                 0.273386              0.471187  "
      ]
     },
     "execution_count": 21,
     "metadata": {},
     "output_type": "execute_result"
    }
   ],
   "source": [
    "objectives = ['Electricity:Facility','DistrictHeating:Facility','DistrictCooling:Facility'] # these get made into `MeterReader` or `VariableReader`\n",
    "\n",
    "problem=EPProblem(parameters, objectives) # problem = parameters + objectives\n",
    "\n",
    "samples = sampling.dist_sampler(sampling.lhs, problem, num_samples=8)\n",
    "samples"
   ]
  },
  {
   "cell_type": "code",
   "execution_count": 22,
   "metadata": {},
   "outputs": [
    {
     "data": {
      "application/vnd.jupyter.widget-view+json": {
       "model_id": "696a7e72709e447d83532443e44022ac",
       "version_major": 2,
       "version_minor": 0
      },
      "text/plain": [
       "HBox(children=(IntProgress(value=0, description='Executing', max=8, style=ProgressStyle(description_width='ini…"
      ]
     },
     "metadata": {},
     "output_type": "display_data"
    },
    {
     "name": "stdout",
     "output_type": "stream",
     "text": [
      "\n"
     ]
    },
    {
     "data": {
      "text/html": [
       "<div>\n",
       "<style scoped>\n",
       "    .dataframe tbody tr th:only-of-type {\n",
       "        vertical-align: middle;\n",
       "    }\n",
       "\n",
       "    .dataframe tbody tr th {\n",
       "        vertical-align: top;\n",
       "    }\n",
       "\n",
       "    .dataframe thead th {\n",
       "        text-align: right;\n",
       "    }\n",
       "</style>\n",
       "<table border=\"1\" class=\"dataframe\">\n",
       "  <thead>\n",
       "    <tr style=\"text-align: right;\">\n",
       "      <th></th>\n",
       "      <th>Insulation Thickness</th>\n",
       "      <th>Conductivity</th>\n",
       "      <th>Solar Transmittance at Normal Incidence</th>\n",
       "      <th>Window to Wall Ratio</th>\n",
       "      <th>Electricity:Facility</th>\n",
       "      <th>DistrictHeating:Facility</th>\n",
       "      <th>DistrictCooling:Facility</th>\n",
       "    </tr>\n",
       "  </thead>\n",
       "  <tbody>\n",
       "    <tr>\n",
       "      <th>count</th>\n",
       "      <td>8.000000</td>\n",
       "      <td>8.000000</td>\n",
       "      <td>8.000000</td>\n",
       "      <td>8.000000</td>\n",
       "      <td>8.000000e+00</td>\n",
       "      <td>8.000000e+00</td>\n",
       "      <td>8.000000e+00</td>\n",
       "    </tr>\n",
       "    <tr>\n",
       "      <th>mean</th>\n",
       "      <td>0.499450</td>\n",
       "      <td>0.568757</td>\n",
       "      <td>0.420435</td>\n",
       "      <td>0.499424</td>\n",
       "      <td>7.675301e+10</td>\n",
       "      <td>2.727770e+10</td>\n",
       "      <td>3.829021e+10</td>\n",
       "    </tr>\n",
       "    <tr>\n",
       "      <th>std</th>\n",
       "      <td>0.320193</td>\n",
       "      <td>0.266178</td>\n",
       "      <td>0.231048</td>\n",
       "      <td>0.248066</td>\n",
       "      <td>0.000000e+00</td>\n",
       "      <td>2.405402e+09</td>\n",
       "      <td>5.921127e+08</td>\n",
       "    </tr>\n",
       "    <tr>\n",
       "      <th>min</th>\n",
       "      <td>0.040528</td>\n",
       "      <td>0.185259</td>\n",
       "      <td>0.099899</td>\n",
       "      <td>0.114760</td>\n",
       "      <td>7.675301e+10</td>\n",
       "      <td>2.586075e+10</td>\n",
       "      <td>3.791917e+10</td>\n",
       "    </tr>\n",
       "    <tr>\n",
       "      <th>25%</th>\n",
       "      <td>0.267046</td>\n",
       "      <td>0.394896</td>\n",
       "      <td>0.251934</td>\n",
       "      <td>0.328370</td>\n",
       "      <td>7.675301e+10</td>\n",
       "      <td>2.611353e+10</td>\n",
       "      <td>3.794369e+10</td>\n",
       "    </tr>\n",
       "    <tr>\n",
       "      <th>50%</th>\n",
       "      <td>0.471786</td>\n",
       "      <td>0.543261</td>\n",
       "      <td>0.402663</td>\n",
       "      <td>0.489480</td>\n",
       "      <td>7.675301e+10</td>\n",
       "      <td>2.637496e+10</td>\n",
       "      <td>3.809472e+10</td>\n",
       "    </tr>\n",
       "    <tr>\n",
       "      <th>75%</th>\n",
       "      <td>0.755975</td>\n",
       "      <td>0.791426</td>\n",
       "      <td>0.609799</td>\n",
       "      <td>0.687851</td>\n",
       "      <td>7.675301e+10</td>\n",
       "      <td>2.704542e+10</td>\n",
       "      <td>3.829238e+10</td>\n",
       "    </tr>\n",
       "    <tr>\n",
       "      <th>max</th>\n",
       "      <td>0.974546</td>\n",
       "      <td>0.898498</td>\n",
       "      <td>0.741451</td>\n",
       "      <td>0.831645</td>\n",
       "      <td>7.675301e+10</td>\n",
       "      <td>3.310330e+10</td>\n",
       "      <td>3.969861e+10</td>\n",
       "    </tr>\n",
       "  </tbody>\n",
       "</table>\n",
       "</div>"
      ],
      "text/plain": [
       "       Insulation Thickness  Conductivity  \\\n",
       "count              8.000000      8.000000   \n",
       "mean               0.499450      0.568757   \n",
       "std                0.320193      0.266178   \n",
       "min                0.040528      0.185259   \n",
       "25%                0.267046      0.394896   \n",
       "50%                0.471786      0.543261   \n",
       "75%                0.755975      0.791426   \n",
       "max                0.974546      0.898498   \n",
       "\n",
       "       Solar Transmittance at Normal Incidence  Window to Wall Ratio  \\\n",
       "count                                 8.000000              8.000000   \n",
       "mean                                  0.420435              0.499424   \n",
       "std                                   0.231048              0.248066   \n",
       "min                                   0.099899              0.114760   \n",
       "25%                                   0.251934              0.328370   \n",
       "50%                                   0.402663              0.489480   \n",
       "75%                                   0.609799              0.687851   \n",
       "max                                   0.741451              0.831645   \n",
       "\n",
       "       Electricity:Facility  DistrictHeating:Facility  \\\n",
       "count          8.000000e+00              8.000000e+00   \n",
       "mean           7.675301e+10              2.727770e+10   \n",
       "std            0.000000e+00              2.405402e+09   \n",
       "min            7.675301e+10              2.586075e+10   \n",
       "25%            7.675301e+10              2.611353e+10   \n",
       "50%            7.675301e+10              2.637496e+10   \n",
       "75%            7.675301e+10              2.704542e+10   \n",
       "max            7.675301e+10              3.310330e+10   \n",
       "\n",
       "       DistrictCooling:Facility  \n",
       "count              8.000000e+00  \n",
       "mean               3.829021e+10  \n",
       "std                5.921127e+08  \n",
       "min                3.791917e+10  \n",
       "25%                3.794369e+10  \n",
       "50%                3.809472e+10  \n",
       "75%                3.829238e+10  \n",
       "max                3.969861e+10  "
      ]
     },
     "execution_count": 22,
     "metadata": {},
     "output_type": "execute_result"
    }
   ],
   "source": [
    "evaluator = EvaluatorEP(problem, building, out_dir='outputdir', err_dir='outputdir',epw_file='/home/ict4bd/ipython/weather/my_epw_file.epw')\n",
    "outputs = evaluator.df_apply(samples, keep_input=True)\n",
    "\n",
    "outputs.describe()"
   ]
  },
  {
   "cell_type": "code",
   "execution_count": 23,
   "metadata": {},
   "outputs": [
    {
     "data": {
      "text/html": [
       "<div>\n",
       "<style scoped>\n",
       "    .dataframe tbody tr th:only-of-type {\n",
       "        vertical-align: middle;\n",
       "    }\n",
       "\n",
       "    .dataframe tbody tr th {\n",
       "        vertical-align: top;\n",
       "    }\n",
       "\n",
       "    .dataframe thead th {\n",
       "        text-align: right;\n",
       "    }\n",
       "</style>\n",
       "<table border=\"1\" class=\"dataframe\">\n",
       "  <thead>\n",
       "    <tr style=\"text-align: right;\">\n",
       "      <th></th>\n",
       "      <th>Insulation Thickness</th>\n",
       "      <th>Conductivity</th>\n",
       "      <th>Solar Transmittance at Normal Incidence</th>\n",
       "      <th>Window to Wall Ratio</th>\n",
       "      <th>Electricity:Facility</th>\n",
       "      <th>DistrictHeating:Facility</th>\n",
       "      <th>DistrictCooling:Facility</th>\n",
       "    </tr>\n",
       "  </thead>\n",
       "  <tbody>\n",
       "    <tr>\n",
       "      <th>0</th>\n",
       "      <td>0.974546</td>\n",
       "      <td>0.760073</td>\n",
       "      <td>0.439303</td>\n",
       "      <td>0.779813</td>\n",
       "      <td>7.675301e+10</td>\n",
       "      <td>2.586075e+10</td>\n",
       "      <td>3.794707e+10</td>\n",
       "    </tr>\n",
       "    <tr>\n",
       "      <th>1</th>\n",
       "      <td>0.215824</td>\n",
       "      <td>0.185259</td>\n",
       "      <td>0.099899</td>\n",
       "      <td>0.114760</td>\n",
       "      <td>7.675301e+10</td>\n",
       "      <td>2.735917e+10</td>\n",
       "      <td>3.836605e+10</td>\n",
       "    </tr>\n",
       "    <tr>\n",
       "      <th>2</th>\n",
       "      <td>0.530790</td>\n",
       "      <td>0.458303</td>\n",
       "      <td>0.664158</td>\n",
       "      <td>0.657197</td>\n",
       "      <td>7.675301e+10</td>\n",
       "      <td>2.621752e+10</td>\n",
       "      <td>3.804341e+10</td>\n",
       "    </tr>\n",
       "    <tr>\n",
       "      <th>3</th>\n",
       "      <td>0.743445</td>\n",
       "      <td>0.898498</td>\n",
       "      <td>0.741451</td>\n",
       "      <td>0.340232</td>\n",
       "      <td>7.675301e+10</td>\n",
       "      <td>2.612325e+10</td>\n",
       "      <td>3.793353e+10</td>\n",
       "    </tr>\n",
       "    <tr>\n",
       "      <th>4</th>\n",
       "      <td>0.284121</td>\n",
       "      <td>0.628219</td>\n",
       "      <td>0.366024</td>\n",
       "      <td>0.292785</td>\n",
       "      <td>7.675301e+10</td>\n",
       "      <td>2.694083e+10</td>\n",
       "      <td>3.826783e+10</td>\n",
       "    </tr>\n",
       "    <tr>\n",
       "      <th>5</th>\n",
       "      <td>0.040528</td>\n",
       "      <td>0.422681</td>\n",
       "      <td>0.187577</td>\n",
       "      <td>0.507774</td>\n",
       "      <td>7.675301e+10</td>\n",
       "      <td>3.310330e+10</td>\n",
       "      <td>3.969861e+10</td>\n",
       "    </tr>\n",
       "    <tr>\n",
       "      <th>6</th>\n",
       "      <td>0.412781</td>\n",
       "      <td>0.885487</td>\n",
       "      <td>0.591679</td>\n",
       "      <td>0.831645</td>\n",
       "      <td>7.675301e+10</td>\n",
       "      <td>2.653241e+10</td>\n",
       "      <td>3.814604e+10</td>\n",
       "    </tr>\n",
       "    <tr>\n",
       "      <th>7</th>\n",
       "      <td>0.793565</td>\n",
       "      <td>0.311538</td>\n",
       "      <td>0.273386</td>\n",
       "      <td>0.471187</td>\n",
       "      <td>7.675301e+10</td>\n",
       "      <td>2.608437e+10</td>\n",
       "      <td>3.791917e+10</td>\n",
       "    </tr>\n",
       "  </tbody>\n",
       "</table>\n",
       "</div>"
      ],
      "text/plain": [
       "   Insulation Thickness  Conductivity  \\\n",
       "0              0.974546      0.760073   \n",
       "1              0.215824      0.185259   \n",
       "2              0.530790      0.458303   \n",
       "3              0.743445      0.898498   \n",
       "4              0.284121      0.628219   \n",
       "5              0.040528      0.422681   \n",
       "6              0.412781      0.885487   \n",
       "7              0.793565      0.311538   \n",
       "\n",
       "   Solar Transmittance at Normal Incidence  Window to Wall Ratio  \\\n",
       "0                                 0.439303              0.779813   \n",
       "1                                 0.099899              0.114760   \n",
       "2                                 0.664158              0.657197   \n",
       "3                                 0.741451              0.340232   \n",
       "4                                 0.366024              0.292785   \n",
       "5                                 0.187577              0.507774   \n",
       "6                                 0.591679              0.831645   \n",
       "7                                 0.273386              0.471187   \n",
       "\n",
       "   Electricity:Facility  DistrictHeating:Facility  DistrictCooling:Facility  \n",
       "0          7.675301e+10              2.586075e+10              3.794707e+10  \n",
       "1          7.675301e+10              2.735917e+10              3.836605e+10  \n",
       "2          7.675301e+10              2.621752e+10              3.804341e+10  \n",
       "3          7.675301e+10              2.612325e+10              3.793353e+10  \n",
       "4          7.675301e+10              2.694083e+10              3.826783e+10  \n",
       "5          7.675301e+10              3.310330e+10              3.969861e+10  \n",
       "6          7.675301e+10              2.653241e+10              3.814604e+10  \n",
       "7          7.675301e+10              2.608437e+10              3.791917e+10  "
      ]
     },
     "execution_count": 23,
     "metadata": {},
     "output_type": "execute_result"
    }
   ],
   "source": [
    "outputs"
   ]
  },
  {
   "cell_type": "code",
   "execution_count": 24,
   "metadata": {},
   "outputs": [
    {
     "data": {
      "text/plain": [
       "Text(0, 0.5, 'DistrictCooling:Facility')"
      ]
     },
     "execution_count": 24,
     "metadata": {},
     "output_type": "execute_result"
    },
    {
     "data": {
      "image/png": "[encoded data removed]",
      "text/plain": [
       "<Figure size 432x288 with 1 Axes>"
      ]
     },
     "metadata": {
      "needs_background": "light"
     },
     "output_type": "display_data"
    }
   ],
   "source": [
    "_ = outputs.plot(x=objectives[1], y=objectives[2], style = 'o')\n",
    "plt.xlabel(objectives[1])\n",
    "plt.ylabel(objectives[2])"
   ]
  },
  {
   "cell_type": "code",
   "execution_count": 25,
   "metadata": {},
   "outputs": [
    {
     "data": {
      "image/png": "[encoded data removed]",
      "text/plain": [
       "<Figure size 576x1080 with 7 Axes>"
      ]
     },
     "metadata": {
      "needs_background": "light"
     },
     "output_type": "display_data"
    }
   ],
   "source": [
    "outputs = outputs.sort_values(by=objectives[1])\n",
    "ax=outputs.plot.bar(subplots=True,legend=None, figsize=(8,15))"
   ]
  },
  {
   "cell_type": "markdown",
   "metadata": {
    "papermill": {
     "duration": 0.018973,
     "end_time": "2019-10-28T23:05:47.372151",
     "exception": false,
     "start_time": "2019-10-28T23:05:47.353178",
     "status": "completed"
    },
    "tags": []
   },
   "source": [
    "## Visualising the parametric analysis"
   ]
  },
  {
   "cell_type": "markdown",
   "metadata": {
    "papermill": {
     "duration": 0.018014,
     "end_time": "2019-10-28T23:05:47.409494",
     "exception": false,
     "start_time": "2019-10-28T23:05:47.391480",
     "status": "completed"
    },
    "tags": []
   },
   "source": [
    "A better way to analyse the results is by looking at scatter plots of the inputs versus the outputs.  \n",
    "This enables us to visually see strong relationships of inputs and outputs."
   ]
  },
  {
   "cell_type": "code",
   "execution_count": 26,
   "metadata": {
    "papermill": {
     "duration": 1.070181,
     "end_time": "2019-10-28T23:05:48.497632",
     "exception": false,
     "start_time": "2019-10-28T23:05:47.427451",
     "status": "completed"
    },
    "tags": []
   },
   "outputs": [
    {
     "data": {
      "image/png": "[encoded data removed]",
      "text/plain": [
       "<Figure size 720x540 with 12 Axes>"
      ]
     },
     "metadata": {
      "needs_background": "light"
     },
     "output_type": "display_data"
    }
   ],
   "source": [
    "_=pairplot(outputs,x_vars=samples.columns, y_vars=objectives, kind=\"scatter\")"
   ]
  },
  {
   "cell_type": "markdown",
   "metadata": {
    "papermill": {
     "duration": 0.018711,
     "end_time": "2019-10-28T23:05:48.534391",
     "exception": false,
     "start_time": "2019-10-28T23:05:48.515680",
     "status": "completed"
    },
    "tags": []
   },
   "source": [
    "### Correlation heat map\n",
    "Another way to analyse the impact of the inputs on the outputs is by analysing the correlation.  \n",
    "A common metric is the Pearsson correlation coefficient:\n",
    "\n",
    "$ r = \\frac{N\\sum{XY}-(\\sum{X}\\sum{Y})}{\\sqrt{ [N\\sum{x^2}-(\\sum{x})^2 ][N\\sum{y^2}-(\\sum{y})^2 }]} $\n",
    "\n",
    "where N is the number of samples. $X$ is the vector of observation of variable 1 (e.g. wall conductivity) and $Y$ is the vetor of observations of variable 2 (e.g. electricity consumption).  \n",
    "The closer $r$ is to one the stronger the correlation, and similarly for negative one and negative correleation.\n",
    "\n",
    "To visualize the correlation coefficients of all inputs and outputs, we can plot a heatmap:"
   ]
  },
  {
   "cell_type": "code",
   "execution_count": 27,
   "metadata": {},
   "outputs": [
    {
     "data": {
      "text/html": [
       "<div>\n",
       "<style scoped>\n",
       "    .dataframe tbody tr th:only-of-type {\n",
       "        vertical-align: middle;\n",
       "    }\n",
       "\n",
       "    .dataframe tbody tr th {\n",
       "        vertical-align: top;\n",
       "    }\n",
       "\n",
       "    .dataframe thead th {\n",
       "        text-align: right;\n",
       "    }\n",
       "</style>\n",
       "<table border=\"1\" class=\"dataframe\">\n",
       "  <thead>\n",
       "    <tr style=\"text-align: right;\">\n",
       "      <th></th>\n",
       "      <th>Insulation Thickness</th>\n",
       "      <th>Conductivity</th>\n",
       "      <th>Solar Transmittance at Normal Incidence</th>\n",
       "      <th>Window to Wall Ratio</th>\n",
       "      <th>Electricity:Facility</th>\n",
       "      <th>DistrictHeating:Facility</th>\n",
       "      <th>DistrictCooling:Facility</th>\n",
       "    </tr>\n",
       "  </thead>\n",
       "  <tbody>\n",
       "    <tr>\n",
       "      <th>Insulation Thickness</th>\n",
       "      <td>1.000000e+00</td>\n",
       "      <td>3.818105e-01</td>\n",
       "      <td>4.756684e-01</td>\n",
       "      <td>3.812562e-01</td>\n",
       "      <td>1.853377e-16</td>\n",
       "      <td>-7.231096e-01</td>\n",
       "      <td>-7.666558e-01</td>\n",
       "    </tr>\n",
       "    <tr>\n",
       "      <th>Conductivity</th>\n",
       "      <td>3.818105e-01</td>\n",
       "      <td>1.000000e+00</td>\n",
       "      <td>7.626210e-01</td>\n",
       "      <td>4.980934e-01</td>\n",
       "      <td>1.114742e-16</td>\n",
       "      <td>-3.047882e-01</td>\n",
       "      <td>-3.103321e-01</td>\n",
       "    </tr>\n",
       "    <tr>\n",
       "      <th>Solar Transmittance at Normal Incidence</th>\n",
       "      <td>4.756684e-01</td>\n",
       "      <td>7.626210e-01</td>\n",
       "      <td>1.000000e+00</td>\n",
       "      <td>4.643019e-01</td>\n",
       "      <td>4.334285e-16</td>\n",
       "      <td>-5.069451e-01</td>\n",
       "      <td>-5.245192e-01</td>\n",
       "    </tr>\n",
       "    <tr>\n",
       "      <th>Window to Wall Ratio</th>\n",
       "      <td>3.812562e-01</td>\n",
       "      <td>4.980934e-01</td>\n",
       "      <td>4.643019e-01</td>\n",
       "      <td>1.000000e+00</td>\n",
       "      <td>2.990333e-16</td>\n",
       "      <td>-1.215673e-01</td>\n",
       "      <td>-1.250516e-01</td>\n",
       "    </tr>\n",
       "    <tr>\n",
       "      <th>Electricity:Facility</th>\n",
       "      <td>1.853377e-16</td>\n",
       "      <td>1.114742e-16</td>\n",
       "      <td>4.334285e-16</td>\n",
       "      <td>2.990333e-16</td>\n",
       "      <td>1.000000e+00</td>\n",
       "      <td>2.119231e-16</td>\n",
       "      <td>1.721836e-15</td>\n",
       "    </tr>\n",
       "    <tr>\n",
       "      <th>DistrictHeating:Facility</th>\n",
       "      <td>-7.231096e-01</td>\n",
       "      <td>-3.047882e-01</td>\n",
       "      <td>-5.069451e-01</td>\n",
       "      <td>-1.215673e-01</td>\n",
       "      <td>2.119231e-16</td>\n",
       "      <td>1.000000e+00</td>\n",
       "      <td>9.958357e-01</td>\n",
       "    </tr>\n",
       "    <tr>\n",
       "      <th>DistrictCooling:Facility</th>\n",
       "      <td>-7.666558e-01</td>\n",
       "      <td>-3.103321e-01</td>\n",
       "      <td>-5.245192e-01</td>\n",
       "      <td>-1.250516e-01</td>\n",
       "      <td>1.721836e-15</td>\n",
       "      <td>9.958357e-01</td>\n",
       "      <td>1.000000e+00</td>\n",
       "    </tr>\n",
       "  </tbody>\n",
       "</table>\n",
       "</div>"
      ],
      "text/plain": [
       "                                         Insulation Thickness  Conductivity  \\\n",
       "Insulation Thickness                             1.000000e+00  3.818105e-01   \n",
       "Conductivity                                     3.818105e-01  1.000000e+00   \n",
       "Solar Transmittance at Normal Incidence          4.756684e-01  7.626210e-01   \n",
       "Window to Wall Ratio                             3.812562e-01  4.980934e-01   \n",
       "Electricity:Facility                             1.853377e-16  1.114742e-16   \n",
       "DistrictHeating:Facility                        -7.231096e-01 -3.047882e-01   \n",
       "DistrictCooling:Facility                        -7.666558e-01 -3.103321e-01   \n",
       "\n",
       "                                         Solar Transmittance at Normal Incidence  \\\n",
       "Insulation Thickness                                                4.756684e-01   \n",
       "Conductivity                                                        7.626210e-01   \n",
       "Solar Transmittance at Normal Incidence                             1.000000e+00   \n",
       "Window to Wall Ratio                                                4.643019e-01   \n",
       "Electricity:Facility                                                4.334285e-16   \n",
       "DistrictHeating:Facility                                           -5.069451e-01   \n",
       "DistrictCooling:Facility                                           -5.245192e-01   \n",
       "\n",
       "                                         Window to Wall Ratio  \\\n",
       "Insulation Thickness                             3.812562e-01   \n",
       "Conductivity                                     4.980934e-01   \n",
       "Solar Transmittance at Normal Incidence          4.643019e-01   \n",
       "Window to Wall Ratio                             1.000000e+00   \n",
       "Electricity:Facility                             2.990333e-16   \n",
       "DistrictHeating:Facility                        -1.215673e-01   \n",
       "DistrictCooling:Facility                        -1.250516e-01   \n",
       "\n",
       "                                         Electricity:Facility  \\\n",
       "Insulation Thickness                             1.853377e-16   \n",
       "Conductivity                                     1.114742e-16   \n",
       "Solar Transmittance at Normal Incidence          4.334285e-16   \n",
       "Window to Wall Ratio                             2.990333e-16   \n",
       "Electricity:Facility                             1.000000e+00   \n",
       "DistrictHeating:Facility                         2.119231e-16   \n",
       "DistrictCooling:Facility                         1.721836e-15   \n",
       "\n",
       "                                         DistrictHeating:Facility  \\\n",
       "Insulation Thickness                                -7.231096e-01   \n",
       "Conductivity                                        -3.047882e-01   \n",
       "Solar Transmittance at Normal Incidence             -5.069451e-01   \n",
       "Window to Wall Ratio                                -1.215673e-01   \n",
       "Electricity:Facility                                 2.119231e-16   \n",
       "DistrictHeating:Facility                             1.000000e+00   \n",
       "DistrictCooling:Facility                             9.958357e-01   \n",
       "\n",
       "                                         DistrictCooling:Facility  \n",
       "Insulation Thickness                                -7.666558e-01  \n",
       "Conductivity                                        -3.103321e-01  \n",
       "Solar Transmittance at Normal Incidence             -5.245192e-01  \n",
       "Window to Wall Ratio                                -1.250516e-01  \n",
       "Electricity:Facility                                 1.721836e-15  \n",
       "DistrictHeating:Facility                             9.958357e-01  \n",
       "DistrictCooling:Facility                             1.000000e+00  "
      ]
     },
     "execution_count": 27,
     "metadata": {},
     "output_type": "execute_result"
    }
   ],
   "source": [
    "outputs.corr()"
   ]
  },
  {
   "cell_type": "code",
   "execution_count": 28,
   "metadata": {
    "papermill": {
     "duration": 0.217006,
     "end_time": "2019-10-28T23:05:48.772631",
     "exception": false,
     "start_time": "2019-10-28T23:05:48.555625",
     "status": "completed"
    },
    "scrolled": false,
    "tags": []
   },
   "outputs": [
    {
     "data": {
      "image/png": "[encoded data removed]",
      "text/plain": [
       "<Figure size 432x288 with 2 Axes>"
      ]
     },
     "metadata": {
      "needs_background": "light"
     },
     "output_type": "display_data"
    }
   ],
   "source": [
    "_ = heatmap(outputs.corr())"
   ]
  },
  {
   "cell_type": "code",
   "execution_count": 29,
   "metadata": {},
   "outputs": [
    {
     "data": {
      "text/html": [
       "<div>\n",
       "<style scoped>\n",
       "    .dataframe tbody tr th:only-of-type {\n",
       "        vertical-align: middle;\n",
       "    }\n",
       "\n",
       "    .dataframe tbody tr th {\n",
       "        vertical-align: top;\n",
       "    }\n",
       "\n",
       "    .dataframe thead th {\n",
       "        text-align: right;\n",
       "    }\n",
       "</style>\n",
       "<table border=\"1\" class=\"dataframe\">\n",
       "  <thead>\n",
       "    <tr style=\"text-align: right;\">\n",
       "      <th></th>\n",
       "      <th>Insulation Thickness</th>\n",
       "      <th>Conductivity</th>\n",
       "      <th>Solar Transmittance at Normal Incidence</th>\n",
       "      <th>Window to Wall Ratio</th>\n",
       "    </tr>\n",
       "  </thead>\n",
       "  <tbody>\n",
       "    <tr>\n",
       "      <th>0</th>\n",
       "      <td>0.01</td>\n",
       "      <td>0.10</td>\n",
       "      <td>0.010</td>\n",
       "      <td>0.1</td>\n",
       "    </tr>\n",
       "    <tr>\n",
       "      <th>1</th>\n",
       "      <td>0.50</td>\n",
       "      <td>0.10</td>\n",
       "      <td>0.010</td>\n",
       "      <td>0.1</td>\n",
       "    </tr>\n",
       "    <tr>\n",
       "      <th>2</th>\n",
       "      <td>0.01</td>\n",
       "      <td>0.55</td>\n",
       "      <td>0.010</td>\n",
       "      <td>0.1</td>\n",
       "    </tr>\n",
       "    <tr>\n",
       "      <th>3</th>\n",
       "      <td>0.50</td>\n",
       "      <td>0.55</td>\n",
       "      <td>0.010</td>\n",
       "      <td>0.1</td>\n",
       "    </tr>\n",
       "    <tr>\n",
       "      <th>4</th>\n",
       "      <td>0.01</td>\n",
       "      <td>0.10</td>\n",
       "      <td>0.405</td>\n",
       "      <td>0.1</td>\n",
       "    </tr>\n",
       "    <tr>\n",
       "      <th>5</th>\n",
       "      <td>0.50</td>\n",
       "      <td>0.10</td>\n",
       "      <td>0.405</td>\n",
       "      <td>0.1</td>\n",
       "    </tr>\n",
       "    <tr>\n",
       "      <th>6</th>\n",
       "      <td>0.01</td>\n",
       "      <td>0.55</td>\n",
       "      <td>0.405</td>\n",
       "      <td>0.1</td>\n",
       "    </tr>\n",
       "    <tr>\n",
       "      <th>7</th>\n",
       "      <td>0.50</td>\n",
       "      <td>0.55</td>\n",
       "      <td>0.405</td>\n",
       "      <td>0.1</td>\n",
       "    </tr>\n",
       "    <tr>\n",
       "      <th>8</th>\n",
       "      <td>0.01</td>\n",
       "      <td>0.10</td>\n",
       "      <td>0.010</td>\n",
       "      <td>0.5</td>\n",
       "    </tr>\n",
       "    <tr>\n",
       "      <th>9</th>\n",
       "      <td>0.50</td>\n",
       "      <td>0.10</td>\n",
       "      <td>0.010</td>\n",
       "      <td>0.5</td>\n",
       "    </tr>\n",
       "    <tr>\n",
       "      <th>10</th>\n",
       "      <td>0.01</td>\n",
       "      <td>0.55</td>\n",
       "      <td>0.010</td>\n",
       "      <td>0.5</td>\n",
       "    </tr>\n",
       "    <tr>\n",
       "      <th>11</th>\n",
       "      <td>0.50</td>\n",
       "      <td>0.55</td>\n",
       "      <td>0.010</td>\n",
       "      <td>0.5</td>\n",
       "    </tr>\n",
       "    <tr>\n",
       "      <th>12</th>\n",
       "      <td>0.01</td>\n",
       "      <td>0.10</td>\n",
       "      <td>0.405</td>\n",
       "      <td>0.5</td>\n",
       "    </tr>\n",
       "    <tr>\n",
       "      <th>13</th>\n",
       "      <td>0.50</td>\n",
       "      <td>0.10</td>\n",
       "      <td>0.405</td>\n",
       "      <td>0.5</td>\n",
       "    </tr>\n",
       "    <tr>\n",
       "      <th>14</th>\n",
       "      <td>0.01</td>\n",
       "      <td>0.55</td>\n",
       "      <td>0.405</td>\n",
       "      <td>0.5</td>\n",
       "    </tr>\n",
       "    <tr>\n",
       "      <th>15</th>\n",
       "      <td>0.50</td>\n",
       "      <td>0.55</td>\n",
       "      <td>0.405</td>\n",
       "      <td>0.5</td>\n",
       "    </tr>\n",
       "  </tbody>\n",
       "</table>\n",
       "</div>"
      ],
      "text/plain": [
       "    Insulation Thickness  Conductivity  \\\n",
       "0                   0.01          0.10   \n",
       "1                   0.50          0.10   \n",
       "2                   0.01          0.55   \n",
       "3                   0.50          0.55   \n",
       "4                   0.01          0.10   \n",
       "5                   0.50          0.10   \n",
       "6                   0.01          0.55   \n",
       "7                   0.50          0.55   \n",
       "8                   0.01          0.10   \n",
       "9                   0.50          0.10   \n",
       "10                  0.01          0.55   \n",
       "11                  0.50          0.55   \n",
       "12                  0.01          0.10   \n",
       "13                  0.50          0.10   \n",
       "14                  0.01          0.55   \n",
       "15                  0.50          0.55   \n",
       "\n",
       "    Solar Transmittance at Normal Incidence  Window to Wall Ratio  \n",
       "0                                     0.010                   0.1  \n",
       "1                                     0.010                   0.1  \n",
       "2                                     0.010                   0.1  \n",
       "3                                     0.010                   0.1  \n",
       "4                                     0.405                   0.1  \n",
       "5                                     0.405                   0.1  \n",
       "6                                     0.405                   0.1  \n",
       "7                                     0.405                   0.1  \n",
       "8                                     0.010                   0.5  \n",
       "9                                     0.010                   0.5  \n",
       "10                                    0.010                   0.5  \n",
       "11                                    0.010                   0.5  \n",
       "12                                    0.405                   0.5  \n",
       "13                                    0.405                   0.5  \n",
       "14                                    0.405                   0.5  \n",
       "15                                    0.405                   0.5  "
      ]
     },
     "execution_count": 29,
     "metadata": {},
     "output_type": "execute_result"
    }
   ],
   "source": [
    "inputs = sampling.dist_sampler(sampling.full_factorial, problem, num_samples=5, level=2)\n",
    "inputs"
   ]
  }
 ],
 "metadata": {
  "kernelspec": {
   "display_name": "Python 3",
   "language": "python",
   "name": "python3"
  },
  "language_info": {
   "codemirror_mode": {
    "name": "ipython",
    "version": 3
   },
   "file_extension": ".py",
   "mimetype": "text/x-python",
   "name": "python",
   "nbconvert_exporter": "python",
   "pygments_lexer": "ipython3",
   "version": "3.6.9"
  }
 },
 "nbformat": 4,
 "nbformat_minor": 2
}
